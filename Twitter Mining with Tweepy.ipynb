{
 "cells": [
  {
   "cell_type": "markdown",
   "metadata": {},
   "source": [
    "# Persiapan"
   ]
  },
  {
   "cell_type": "markdown",
   "metadata": {},
   "source": [
    "Untuk mengambil data twitter diperlukan :\n",
    "* Akun twitter yang aktif (bisa registrasi di https://twitter.com/)\n",
    "* Akses ke API twitter menggunakan Developer Access\n",
    "* Python dengan module tweepy\n",
    "* Akses internet\n",
    "\n",
    "(cek slide untuk detailnya)"
   ]
  },
  {
   "cell_type": "code",
   "execution_count": null,
   "metadata": {},
   "outputs": [],
   "source": [
    "#data\n",
    "consumer_key = \"kode 1\"\n",
    "consumer_secret = \"kode 2\"\n",
    "access_token = \"kode 3\"\n",
    "access_token_secret = \"kode 4\""
   ]
  },
  {
   "cell_type": "code",
   "execution_count": null,
   "metadata": {},
   "outputs": [],
   "source": [
    "!pip install tweepy\n",
    "#documentation http://docs.tweepy.org/en/v3.9.0/index.html"
   ]
  },
  {
   "cell_type": "code",
   "execution_count": null,
   "metadata": {},
   "outputs": [],
   "source": [
    "import tweepy as tw\n",
    "import pandas as pd\n",
    "import time\n",
    "import json"
   ]
  },
  {
   "cell_type": "code",
   "execution_count": null,
   "metadata": {},
   "outputs": [],
   "source": [
    "auth = tw.OAuthHandler(consumer_key, consumer_secret)\n",
    "auth.set_access_token(access_token, access_token_secret)\n",
    "api = tw.API(auth, wait_on_rate_limit=True)\n"
   ]
  },
  {
   "cell_type": "code",
   "execution_count": null,
   "metadata": {},
   "outputs": [],
   "source": [
    "#membaca dari timeline\n",
    "public_tweets = api.home_timeline()\n",
    "for tweet in public_tweets:\n",
    "    print(tweet.text)\n",
    "    \n",
    "#referensi : http://docs.tweepy.org/en/v3.9.0/api.html#api-reference"
   ]
  },
  {
   "cell_type": "code",
   "execution_count": null,
   "metadata": {},
   "outputs": [],
   "source": [
    "#tentang tweet\n",
    "tweet = public_tweets[0]\n",
    "print(tweet)"
   ]
  },
  {
   "cell_type": "code",
   "execution_count": null,
   "metadata": {},
   "outputs": [],
   "source": [
    "#memasukkan infonya ke dictionary python\n",
    "dict_tweet = tweet._json\n",
    "dict_tweet.keys()\n",
    "#dict_tweet['user']"
   ]
  },
  {
   "cell_type": "code",
   "execution_count": null,
   "metadata": {},
   "outputs": [],
   "source": [
    "#mengambil tweets dengan kata kunci tertentu\n",
    "kata_kunci = \"Banjir\" #https://developer.twitter.com/en/docs/twitter-api/v1/rules-and-filtering/overview/standard-operators\n",
    "tanggal = \"2020-10-20\"\n",
    "\n",
    "tweets = tw.Cursor(api.search,\n",
    "              q=kata_kunci,\n",
    "              lang=\"en\",\n",
    "              since=tanggal)\n",
    "tw_items = tweets.items(100) #batasi pengambilan tweet"
   ]
  },
  {
   "cell_type": "code",
   "execution_count": null,
   "metadata": {},
   "outputs": [],
   "source": [
    "daftar_tweet = [tweet for tweet in tw_items]\n",
    "text_tweet = [tweet.text for tweet in daftar_tweet]"
   ]
  },
  {
   "cell_type": "code",
   "execution_count": null,
   "metadata": {},
   "outputs": [],
   "source": [
    "tweet = daftar_tweet[10]\n",
    "print(tweet.text)\n",
    "print(\"user = \",tweet.user.screen_name)\n",
    "print(\"lokasi user = \",tweet.user.location)\n",
    "print(\"follower = \",tweet.user.followers_count)"
   ]
  },
  {
   "cell_type": "code",
   "execution_count": null,
   "metadata": {},
   "outputs": [],
   "source": [
    "#tentang user\n",
    "tweet.user"
   ]
  },
  {
   "cell_type": "code",
   "execution_count": null,
   "metadata": {},
   "outputs": [],
   "source": [
    "#streaming tweet\n",
    "from tweepy import Stream\n",
    "from tweepy.streaming import StreamListener\n",
    " \n",
    "class MyListener(StreamListener):\n",
    " \n",
    "    def on_data(self, data):\n",
    "        try:\n",
    "            with open('python.json', 'a') as f:\n",
    "                f.write(data)\n",
    "                return True\n",
    "        except BaseException as e:\n",
    "            print(\"Error on_data: %s\" % str(e))\n",
    "        return True\n",
    " \n",
    "    def on_error(self, status):\n",
    "        print(status)\n",
    "        return True\n"
   ]
  },
  {
   "cell_type": "code",
   "execution_count": null,
   "metadata": {},
   "outputs": [],
   "source": [
    "#streaming tweet dengan hashtag python. is_async bisa dipakai kalau mau jalan di belakang layar\n",
    "twitter_stream = Stream(auth, MyListener())\n",
    "twitter_stream.filter(track=['#python'], is_async=True)"
   ]
  },
  {
   "cell_type": "code",
   "execution_count": null,
   "metadata": {},
   "outputs": [],
   "source": [
    "twitter_stream.disconnect()"
   ]
  },
  {
   "cell_type": "code",
   "execution_count": null,
   "metadata": {},
   "outputs": [],
   "source": [
    "#proses hasil streaming\n",
    "with open('python.json', 'r') as f:\n",
    "    line = f.readline() # baca tweet pertama\n",
    "    tweet = json.loads(line) # simpan dalam dictionary\n",
    "    print(json.dumps(tweet, indent=4)) # pretty-print"
   ]
  }
 ],
 "metadata": {
  "kernelspec": {
   "display_name": "Python 3",
   "language": "python",
   "name": "python3"
  },
  "language_info": {
   "codemirror_mode": {
    "name": "ipython",
    "version": 3
   },
   "file_extension": ".py",
   "mimetype": "text/x-python",
   "name": "python",
   "nbconvert_exporter": "python",
   "pygments_lexer": "ipython3",
   "version": "3.7.6"
  }
 },
 "nbformat": 4,
 "nbformat_minor": 2
}
